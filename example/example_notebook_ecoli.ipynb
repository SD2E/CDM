{
 "cells": [
  {
   "cell_type": "markdown",
   "metadata": {
    "toc": true
   },
   "source": [
    "<h1>Table of Contents<span class=\"tocSkip\"></span></h1>\n",
    "<div class=\"toc\"><ul class=\"toc-item\"><li><span><a href=\"#Setting-up-HRM\" data-toc-modified-id=\"Setting-up-HRM-1\"><span class=\"toc-item-num\">1&nbsp;&nbsp;</span>Setting up HRM</a></span><ul class=\"toc-item\"><li><span><a href=\"#Model-of-mapping-genes-to-0\" data-toc-modified-id=\"Model-of-mapping-genes-to-0-1.1\"><span class=\"toc-item-num\">1.1&nbsp;&nbsp;</span>Model of mapping genes to 0</a></span></li><li><span><a href=\"#Model-of-Dropping-Genes\" data-toc-modified-id=\"Model-of-Dropping-Genes-1.2\"><span class=\"toc-item-num\">1.2&nbsp;&nbsp;</span>Model of Dropping Genes</a></span></li></ul></li><li><span><a href=\"#Validation\" data-toc-modified-id=\"Validation-2\"><span class=\"toc-item-num\">2&nbsp;&nbsp;</span>Validation</a></span><ul class=\"toc-item\"><li><span><a href=\"#Validation-of-dropping-genes\" data-toc-modified-id=\"Validation-of-dropping-genes-2.1\"><span class=\"toc-item-num\">2.1&nbsp;&nbsp;</span>Validation of dropping genes</a></span></li></ul></li><li><span><a href=\"#Validation-of-Mapping-Genes-to-0\" data-toc-modified-id=\"Validation-of-Mapping-Genes-to-0-3\"><span class=\"toc-item-num\">3&nbsp;&nbsp;</span>Validation of Mapping Genes to 0</a></span></li><li><span><a href=\"#START-INCORPORATING-NEW-DEEP-DIVES-HERE!\" data-toc-modified-id=\"START-INCORPORATING-NEW-DEEP-DIVES-HERE!-4\"><span class=\"toc-item-num\">4&nbsp;&nbsp;</span>START INCORPORATING NEW DEEP DIVES HERE!</a></span></li></ul></div>"
   ]
  },
  {
   "cell_type": "code",
   "execution_count": 1,
   "metadata": {},
   "outputs": [],
   "source": [
    "import pandas as pd\n",
    "from pathlib import Path\n",
    "from cdm_src.host_response_model import HostResponseModel\n",
    "from harness.th_model_instances.hamed_models.random_forest_regression import random_forest_regression\n",
    "from harness.th_model_instances.hamed_models.rocklin_models import linear_regression, gradboost_regression\n",
    "import os"
   ]
  },
  {
   "cell_type": "code",
   "execution_count": 2,
   "metadata": {},
   "outputs": [],
   "source": []
  },
  {
   "cell_type": "code",
   "execution_count": 3,
   "metadata": {},
   "outputs": [],
   "source": [
    "#Setup directory\n",
    "dir_path = '.'\n",
    "if not os.path.exists(dir_path):\n",
    "    print('creating path')\n",
    "    os.makedirs(dir_path)\n"
   ]
  },
  {
   "cell_type": "code",
   "execution_count": 4,
   "metadata": {},
   "outputs": [],
   "source": [
    "\n",
    "hrm_target_col = \"logFC\"\n",
    "hrm_gene_col = \"gene\"\n"
   ]
  },
  {
   "cell_type": "code",
   "execution_count": 6,
   "metadata": {},
   "outputs": [
    {
     "name": "stdout",
     "output_type": "stream",
     "text": [
      "(61665, 9)\n",
      "(61665, 9)\n",
      "\n",
      "HRM data looks like:\n"
     ]
    },
    {
     "data": {
      "text/html": [
       "<div>\n",
       "<style scoped>\n",
       "    .dataframe tbody tr th:only-of-type {\n",
       "        vertical-align: middle;\n",
       "    }\n",
       "\n",
       "    .dataframe tbody tr th {\n",
       "        vertical-align: top;\n",
       "    }\n",
       "\n",
       "    .dataframe thead th {\n",
       "        text-align: right;\n",
       "    }\n",
       "</style>\n",
       "<table border=\"1\" class=\"dataframe\">\n",
       "  <thead>\n",
       "    <tr style=\"text-align: right;\">\n",
       "      <th></th>\n",
       "      <th>gene</th>\n",
       "      <th>flagedgeRremoved_MG1655_WT</th>\n",
       "      <th>FDR</th>\n",
       "      <th>nlogFDR</th>\n",
       "      <th>logFC</th>\n",
       "      <th>IPTG_concentration</th>\n",
       "      <th>arabinose_concentration</th>\n",
       "      <th>timepoint</th>\n",
       "      <th>strain</th>\n",
       "    </tr>\n",
       "  </thead>\n",
       "  <tbody>\n",
       "    <tr>\n",
       "      <th>0</th>\n",
       "      <td>actuator_yfp</td>\n",
       "      <td>1</td>\n",
       "      <td>0.0</td>\n",
       "      <td>0.0</td>\n",
       "      <td>0.0</td>\n",
       "      <td>1</td>\n",
       "      <td>0</td>\n",
       "      <td>5.0</td>\n",
       "      <td>MG1655_WT</td>\n",
       "    </tr>\n",
       "    <tr>\n",
       "      <th>1</th>\n",
       "      <td>camr</td>\n",
       "      <td>1</td>\n",
       "      <td>0.0</td>\n",
       "      <td>0.0</td>\n",
       "      <td>0.0</td>\n",
       "      <td>1</td>\n",
       "      <td>0</td>\n",
       "      <td>5.0</td>\n",
       "      <td>MG1655_WT</td>\n",
       "    </tr>\n",
       "    <tr>\n",
       "      <th>2</th>\n",
       "      <td>circuit_icar</td>\n",
       "      <td>1</td>\n",
       "      <td>0.0</td>\n",
       "      <td>0.0</td>\n",
       "      <td>0.0</td>\n",
       "      <td>1</td>\n",
       "      <td>0</td>\n",
       "      <td>5.0</td>\n",
       "      <td>MG1655_WT</td>\n",
       "    </tr>\n",
       "    <tr>\n",
       "      <th>3</th>\n",
       "      <td>circuit_phlf</td>\n",
       "      <td>1</td>\n",
       "      <td>0.0</td>\n",
       "      <td>0.0</td>\n",
       "      <td>0.0</td>\n",
       "      <td>1</td>\n",
       "      <td>0</td>\n",
       "      <td>5.0</td>\n",
       "      <td>MG1655_WT</td>\n",
       "    </tr>\n",
       "  </tbody>\n",
       "</table>\n",
       "</div>"
      ],
      "text/plain": [
       "           gene  flagedgeRremoved_MG1655_WT  FDR  nlogFDR  logFC  IPTG_concentration  arabinose_concentration  timepoint     strain\n",
       "0  actuator_yfp                           1  0.0      0.0    0.0                   1                        0        5.0  MG1655_WT\n",
       "1          camr                           1  0.0      0.0    0.0                   1                        0        5.0  MG1655_WT\n",
       "2  circuit_icar                           1  0.0      0.0    0.0                   1                        0        5.0  MG1655_WT\n",
       "3  circuit_phlf                           1  0.0      0.0    0.0                   1                        0        5.0  MG1655_WT"
      ]
     },
     "execution_count": 6,
     "metadata": {},
     "output_type": "execute_result"
    }
   ],
   "source": [
    "# Read in dataframe\n",
    "\n",
    "hrm_data = pd.read_csv('./ecoli_additive_design_df.csv')\n",
    "hrm_data.rename(columns={\"Unnamed: 0\": \"gene\"}, inplace=True)\n",
    "hrm_data['gene']=hrm_data['gene'].apply(str.lower)\n",
    "print(hrm_data.shape)\n",
    "print(hrm_data.shape)\n",
    "print(\"\\nHRM data looks like:\")\n",
    "hrm_data.head(4)"
   ]
  },
  {
   "cell_type": "code",
   "execution_count": 7,
   "metadata": {},
   "outputs": [],
   "source": [
    "hrm_data = hrm_data.merge(pd.get_dummies(hrm_data['timepoint'],'timepoint'),left_index=True,right_index=True)\n",
    "hrm_experimental_condition_cols=['IPTG_concentration','arabinose_concentration','timepoint_5.0','timepoint_6.5',\n",
    "                                'timepoint_8.0','timepoint_18.0']"
   ]
  },
  {
   "cell_type": "code",
   "execution_count": 8,
   "metadata": {},
   "outputs": [],
   "source": [
    "#Read in translated network. Translation here refers to Ecolinet with gene symbols instead of locus tags.\n",
    "org_network = pd.read_csv('./CX.INT.EcoliNet.v1_translated.csv')"
   ]
  },
  {
   "cell_type": "markdown",
   "metadata": {},
   "source": [
    "# Setting up HRM"
   ]
  },
  {
   "cell_type": "code",
   "execution_count": 9,
   "metadata": {},
   "outputs": [
    {
     "name": "stdout",
     "output_type": "stream",
     "text": [
      ".\n"
     ]
    }
   ],
   "source": [
    "print(dir_path)"
   ]
  },
  {
   "cell_type": "code",
   "execution_count": 10,
   "metadata": {},
   "outputs": [
    {
     "name": "stdout",
     "output_type": "stream",
     "text": [
      "\n",
      "Column IPTG_concentration: contains 2 unique values\n",
      "Column arabinose_concentration: contains 2 unique values\n",
      "Column timepoint_5.0: contains 2 unique values\n",
      "Column timepoint_6.5: contains 2 unique values\n",
      "Column timepoint_8.0: contains 2 unique values\n",
      "Column timepoint_18.0: contains 2 unique values\n",
      "Input dataframe contains 15 conditions out of 64 possible conditions\n",
      "There are 49 conditions to be predicted\n",
      "\n"
     ]
    }
   ],
   "source": [
    "hrm = HostResponseModel(initial_data=hrm_data, output_path=dir_path, leaderboard_query=None,\n",
    "                        exp_condition_cols=hrm_experimental_condition_cols, target_col=hrm_target_col,\n",
    "                        gene_col=hrm_gene_col)"
   ]
  },
  {
   "cell_type": "code",
   "execution_count": 12,
   "metadata": {},
   "outputs": [
    {
     "name": "stdout",
     "output_type": "stream",
     "text": [
      "./cdm_outputs\n"
     ]
    },
    {
     "name": "stderr",
     "output_type": "stream",
     "text": [
      "Computing transition probabilities:   0%|          | 2/4039 [00:00<04:01, 16.71it/s]"
     ]
    },
    {
     "name": "stdout",
     "output_type": "stream",
     "text": [
      "Building model...\n"
     ]
    },
    {
     "name": "stderr",
     "output_type": "stream",
     "text": [
      "Computing transition probabilities: 100%|██████████| 4039/4039 [00:33<00:00, 119.72it/s]\n"
     ]
    },
    {
     "name": "stdout",
     "output_type": "stream",
     "text": [
      "\n",
      "Fitting model...\n",
      "Embedding columns were added in self.existing_data\n",
      "Embedding columns were added in self.future_data\n",
      "\n"
     ]
    }
   ],
   "source": [
    "#Embed the prior network for the model\n",
    "print(hrm.output_path)\n",
    "hrm.existing_data['gene']=hrm.existing_data['gene'].apply(str.lower)\n",
    "hrm.embed_prior_network(df_network = org_network)\n"
   ]
  },
  {
   "cell_type": "code",
   "execution_count": 14,
   "metadata": {},
   "outputs": [
    {
     "data": {
      "text/plain": [
       "4111"
      ]
     },
     "execution_count": 14,
     "metadata": {},
     "output_type": "execute_result"
    }
   ],
   "source": [
    "#Confirm that number of genes has not changed\n",
    "len(hrm.existing_data['gene'].unique())"
   ]
  },
  {
   "cell_type": "code",
   "execution_count": 15,
   "metadata": {},
   "outputs": [
    {
     "data": {
      "text/plain": [
       "IPTG_concentration  arabinose_concentration  timepoint  strain     timepoint_5.0  timepoint_6.5  timepoint_8.0  timepoint_18.0\n",
       "0                   0                        6.5        MG1655_WT  0              1              0              0                 3818.0\n",
       "                                             8.0        MG1655_WT  0              0              1              0                 3818.0\n",
       "                                             18.0       MG1655_WT  0              0              0              1                 3818.0\n",
       "                    1                        5.0        MG1655_WT  1              0              0              0                 3818.0\n",
       "                                             6.5        MG1655_WT  0              1              0              0                 3818.0\n",
       "                                             8.0        MG1655_WT  0              0              1              0                 3818.0\n",
       "                                             18.0       MG1655_WT  0              0              0              1                 3818.0\n",
       "1                   0                        5.0        MG1655_WT  1              0              0              0                 3818.0\n",
       "                                             6.5        MG1655_WT  0              1              0              0                 3818.0\n",
       "                                             8.0        MG1655_WT  0              0              1              0                 3818.0\n",
       "                                             18.0       MG1655_WT  0              0              0              1                 3818.0\n",
       "                    1                        5.0        MG1655_WT  1              0              0              0                 3818.0\n",
       "                                             6.5        MG1655_WT  0              1              0              0                 3818.0\n",
       "                                             8.0        MG1655_WT  0              0              1              0                 3818.0\n",
       "                                             18.0       MG1655_WT  0              0              0              1                 3818.0\n",
       "Name: emb_present, dtype: float64"
      ]
     },
     "execution_count": 15,
     "metadata": {},
     "output_type": "execute_result"
    }
   ],
   "source": [
    "#Check that the number of genes with an embedding is constant across all the conditions\n",
    "hrm.existing_data.groupby(['IPTG_concentration', 'arabinose_concentration', 'timepoint', 'strain', 'timepoint_5.0', 'timepoint_6.5', 'timepoint_8.0', 'timepoint_18.0']).sum()['emb_present']"
   ]
  },
  {
   "cell_type": "code",
   "execution_count": 16,
   "metadata": {},
   "outputs": [
    {
     "name": "stdout",
     "output_type": "stream",
     "text": [
      "45221 16444\n"
     ]
    }
   ],
   "source": [
    "#Create train/test splits. No validation set here, as this is just a proof of concept.\n",
    "train_df = hrm.existing_data[~(((hrm.existing_data['IPTG_concentration']==1)&\n",
    "                                (hrm.existing_data['arabinose_concentration']==1)))].fillna(0)\n",
    "test_df = hrm.existing_data[(((hrm.existing_data['IPTG_concentration']==1)&\n",
    "                                (hrm.existing_data['arabinose_concentration']==1)))].fillna(0)\n",
    "print(len(train_df),len(test_df))"
   ]
  },
  {
   "cell_type": "markdown",
   "metadata": {},
   "source": [
    "## Model of mapping genes to 0"
   ]
  },
  {
   "cell_type": "code",
   "execution_count": 23,
   "metadata": {},
   "outputs": [
    {
     "name": "stdout",
     "output_type": "stream",
     "text": [
      "\n",
      "--------------------------------- starting HRM model testing - mapping genes to 0 ---------------------------------\n",
      "\n"
     ]
    },
    {
     "name": "stderr",
     "output_type": "stream",
     "text": [
      "\n",
      "/Users/meslami/Documents/GitRepos/cdm/cdm_src/cdm_base_class.py:138:\n",
      "You are overwriting the features to use, this may impact downstream integration with predictions....\n"
     ]
    },
    {
     "name": "stdout",
     "output_type": "stream",
     "text": [
      "----------------------------------------------------------------------------------------------------\n",
      "Starting run of model random_forest_regression at time 12:31:52\n",
      "Starting Regression training...\n",
      "Training time was: 33.25 seconds\n",
      "Testing time was: 0.94 seconds\n",
      "Prediction time of untested data was: 3.99837589263916\n",
      "Run finished at 12:32:38. Total run time = 45.80 seconds\n",
      "^^^^^^^^^^^^^^^^^^^^^^^^^^^^^^^^^^^^^^^^^^^^^^^^^^^^^^^^^^^^^^^^^^^^^^^^^^^^^^^^^^^^^^^^^^^^^^^^^^^^\n",
      "\n",
      "\n",
      "----------------------------------------------------------------------------------------------------\n",
      "Starting run of model linear_regression at time 12:32:38\n",
      "Starting Regression training...\n"
     ]
    },
    {
     "name": "stderr",
     "output_type": "stream",
     "text": [
      "\n",
      "/Users/meslami/Documents/GitRepos/cdm/cdm_src/cdm_base_class.py:138:\n",
      "You are overwriting the features to use, this may impact downstream integration with predictions....\n"
     ]
    },
    {
     "name": "stdout",
     "output_type": "stream",
     "text": [
      "Training time was: 0.05 seconds\n",
      "Testing time was: 0.02 seconds\n",
      "Prediction time of untested data was: 0.2449331283569336\n",
      "Run finished at 12:32:46. Total run time = 8.04 seconds\n",
      "^^^^^^^^^^^^^^^^^^^^^^^^^^^^^^^^^^^^^^^^^^^^^^^^^^^^^^^^^^^^^^^^^^^^^^^^^^^^^^^^^^^^^^^^^^^^^^^^^^^^\n",
      "\n",
      "\n",
      "----------------------------------------------------------------------------------------------------\n",
      "Starting run of model gradboost_regression at time 12:32:46\n"
     ]
    },
    {
     "name": "stderr",
     "output_type": "stream",
     "text": [
      "\n",
      "/Users/meslami/Documents/GitRepos/cdm/cdm_src/cdm_base_class.py:138:\n",
      "You are overwriting the features to use, this may impact downstream integration with predictions....\n"
     ]
    },
    {
     "name": "stdout",
     "output_type": "stream",
     "text": [
      "Starting Regression training...\n",
      "Training time was: 64.07 seconds\n",
      "Testing time was: 0.05 seconds\n",
      "Prediction time of untested data was: 0.9202649593353271\n",
      "Run finished at 12:33:59. Total run time = 72.47 seconds\n",
      "^^^^^^^^^^^^^^^^^^^^^^^^^^^^^^^^^^^^^^^^^^^^^^^^^^^^^^^^^^^^^^^^^^^^^^^^^^^^^^^^^^^^^^^^^^^^^^^^^^^^\n",
      "\n",
      "\n"
     ]
    }
   ],
   "source": [
    "print(\"\\n--------------------------------- starting HRM model testing - mapping genes to 0 ---------------------------------\\n\")\n",
    "\n",
    "th_kwargs = dict(function_that_returns_TH_model=random_forest_regression,\n",
    "                 dict_of_function_parameters={},\n",
    "                 description=\"embedding_all_genes\",\n",
    "                 feature_cols_to_use=hrm_experimental_condition_cols+['embcol_'+str(i) for i in range(32)],\n",
    "                 feature_cols_to_normalize=['embcol_'+str(i) for i in range(32)])\n",
    "\n",
    "\n",
    "\n",
    "hrm._invoke_test_harness(train_df, test_df, hrm.future_data.fillna(0), percent_train='NA',num_pred_conditions=2,**th_kwargs)\n",
    "\n",
    "\n",
    "th_kwargs = dict(function_that_returns_TH_model=linear_regression,\n",
    "                 dict_of_function_parameters={},\n",
    "                 description=\"embedding_all_genes\",\n",
    "                 feature_cols_to_use=hrm_experimental_condition_cols+['embcol_'+str(i) for i in range(32)],\n",
    "                 feature_cols_to_normalize=['embcol_'+str(i) for i in range(32)])\n",
    "\n",
    "\n",
    "\n",
    "hrm._invoke_test_harness(train_df, test_df, hrm.future_data.fillna(0), percent_train='NA',num_pred_conditions=2,**th_kwargs)\n",
    "\n",
    "th_kwargs = dict(function_that_returns_TH_model=gradboost_regression,\n",
    "                 dict_of_function_parameters={},\n",
    "                 description=\"embedding_all_genes\",\n",
    "                 feature_cols_to_use=hrm_experimental_condition_cols+['embcol_'+str(i) for i in range(32)],\n",
    "                 feature_cols_to_normalize=['embcol_'+str(i) for i in range(32)])\n",
    "\n",
    "\n",
    "\n",
    "hrm._invoke_test_harness(train_df, test_df, hrm.future_data.fillna(0), percent_train='NA',num_pred_conditions=2,**th_kwargs)\n"
   ]
  },
  {
   "cell_type": "markdown",
   "metadata": {},
   "source": [
    "## Model of Dropping Genes"
   ]
  },
  {
   "cell_type": "code",
   "execution_count": 24,
   "metadata": {},
   "outputs": [
    {
     "name": "stdout",
     "output_type": "stream",
     "text": [
      "\n",
      "--------------------------------- starting HRM model testing - dropping genes not in emb ---------------------------------\n",
      "\n",
      "41998 15272\n",
      "----------------------------------------------------------------------------------------------------\n",
      "Starting run of model random_forest_regression at time 12:36:23\n",
      "Starting Regression training...\n"
     ]
    },
    {
     "name": "stderr",
     "output_type": "stream",
     "text": [
      "\n",
      "/Users/meslami/Documents/GitRepos/cdm/cdm_src/cdm_base_class.py:138:\n",
      "You are overwriting the features to use, this may impact downstream integration with predictions....\n"
     ]
    },
    {
     "name": "stdout",
     "output_type": "stream",
     "text": [
      "Training time was: 28.68 seconds\n",
      "Testing time was: 1.03 seconds\n",
      "Prediction time of untested data was: 0.4291110038757324\n",
      "Run finished at 12:36:56. Total run time = 33.01 seconds\n",
      "^^^^^^^^^^^^^^^^^^^^^^^^^^^^^^^^^^^^^^^^^^^^^^^^^^^^^^^^^^^^^^^^^^^^^^^^^^^^^^^^^^^^^^^^^^^^^^^^^^^^\n",
      "\n",
      "\n",
      "----------------------------------------------------------------------------------------------------\n",
      "Starting run of model linear_regression at time 12:36:56\n",
      "Starting Regression training...\n",
      "Training time was: 0.03 seconds\n",
      "Testing time was: 0.01 seconds\n"
     ]
    },
    {
     "name": "stderr",
     "output_type": "stream",
     "text": [
      "\n",
      "/Users/meslami/Documents/GitRepos/cdm/cdm_src/cdm_base_class.py:138:\n",
      "You are overwriting the features to use, this may impact downstream integration with predictions....\n"
     ]
    },
    {
     "name": "stdout",
     "output_type": "stream",
     "text": [
      "Prediction time of untested data was: 0.02236199378967285\n",
      "Run finished at 12:36:59. Total run time = 3.05 seconds\n",
      "^^^^^^^^^^^^^^^^^^^^^^^^^^^^^^^^^^^^^^^^^^^^^^^^^^^^^^^^^^^^^^^^^^^^^^^^^^^^^^^^^^^^^^^^^^^^^^^^^^^^\n",
      "\n",
      "\n",
      "----------------------------------------------------------------------------------------------------\n",
      "Starting run of model gradboost_regression at time 12:36:59\n",
      "Starting Regression training...\n"
     ]
    },
    {
     "name": "stderr",
     "output_type": "stream",
     "text": [
      "\n",
      "/Users/meslami/Documents/GitRepos/cdm/cdm_src/cdm_base_class.py:138:\n",
      "You are overwriting the features to use, this may impact downstream integration with predictions....\n"
     ]
    },
    {
     "name": "stdout",
     "output_type": "stream",
     "text": [
      "Training time was: 62.08 seconds\n",
      "Testing time was: 0.05 seconds\n",
      "Prediction time of untested data was: 0.03720808029174805\n",
      "Run finished at 12:38:04. Total run time = 64.76 seconds\n",
      "^^^^^^^^^^^^^^^^^^^^^^^^^^^^^^^^^^^^^^^^^^^^^^^^^^^^^^^^^^^^^^^^^^^^^^^^^^^^^^^^^^^^^^^^^^^^^^^^^^^^\n",
      "\n",
      "\n"
     ]
    }
   ],
   "source": [
    "print(\"\\n--------------------------------- starting HRM model testing - dropping genes not in emb ---------------------------------\\n\")\n",
    "\n",
    "train_df = hrm.existing_data[(~(((hrm.existing_data['IPTG_concentration']==1)&\n",
    "                                (hrm.existing_data['arabinose_concentration']==1))))&\\\n",
    "                            (hrm.existing_data['emb_present']==1)]\n",
    "test_df = hrm.existing_data[(((hrm.existing_data['IPTG_concentration']==1)&\n",
    "                                (hrm.existing_data['arabinose_concentration']==1)))&\\\n",
    "                            (hrm.existing_data['emb_present']==1)]\n",
    "print(len(train_df),len(test_df))\n",
    "\n",
    "th_kwargs = dict(function_that_returns_TH_model=random_forest_regression,\n",
    "                 dict_of_function_parameters={},\n",
    "                 description=\"embedding_network_genes_only\",\n",
    "                 feature_cols_to_use=hrm_experimental_condition_cols+['embcol_'+str(i) for i in range(32)],\n",
    "                 feature_cols_to_normalize=['embcol_'+str(i) for i in range(32)])\n",
    "\n",
    "\n",
    "\n",
    "hrm._invoke_test_harness(train_df, test_df, hrm.future_data[hrm.future_data['emb_present']==1], percent_train='NA',num_pred_conditions=2,**th_kwargs)\n",
    "\n",
    "\n",
    "th_kwargs = dict(function_that_returns_TH_model=linear_regression,\n",
    "                 dict_of_function_parameters={},\n",
    "                 description=\"embedding_network_genes_only\",\n",
    "                 feature_cols_to_use=hrm_experimental_condition_cols+['embcol_'+str(i) for i in range(32)],\n",
    "                 feature_cols_to_normalize=['embcol_'+str(i) for i in range(32)])\n",
    "\n",
    "\n",
    "\n",
    "hrm._invoke_test_harness(train_df, test_df, hrm.future_data[hrm.future_data['emb_present']==1], percent_train='NA',num_pred_conditions=2,**th_kwargs)\n",
    "\n",
    "th_kwargs = dict(function_that_returns_TH_model=gradboost_regression,\n",
    "                 dict_of_function_parameters={},\n",
    "                 description=\"embedding_network_genes_only\",\n",
    "                 feature_cols_to_use=hrm_experimental_condition_cols+['embcol_'+str(i) for i in range(32)],\n",
    "                 feature_cols_to_normalize=['embcol_'+str(i) for i in range(32)])\n",
    "\n",
    "\n",
    "\n",
    "hrm._invoke_test_harness(train_df, test_df, hrm.future_data[hrm.future_data['emb_present']==1], percent_train='NA',num_pred_conditions=2,**th_kwargs)"
   ]
  },
  {
   "cell_type": "code",
   "execution_count": 30,
   "metadata": {},
   "outputs": [
    {
     "data": {
      "text/plain": [
       "1.0    57270\n",
       "0.0     4395\n",
       "Name: emb_present, dtype: int64"
      ]
     },
     "execution_count": 30,
     "metadata": {},
     "output_type": "execute_result"
    }
   ],
   "source": [
    "hrm.existing_data.to_csv(os.path.join(dir_path,'hrmdata.csv'))\n",
    "hrm.existing_data['emb_present'].value_counts()"
   ]
  },
  {
   "cell_type": "code",
   "execution_count": 31,
   "metadata": {},
   "outputs": [
    {
     "data": {
      "text/plain": [
       "Index(['gene', 'flagedgeRremoved_MG1655_WT', 'FDR', 'nlogFDR', 'logFC', 'IPTG_concentration', 'arabinose_concentration', 'timepoint', 'strain', 'timepoint_5.0', 'timepoint_6.5', 'timepoint_8.0', 'timepoint_18.0', 'embcol_0', 'embcol_1', 'embcol_2', 'embcol_3', 'embcol_4', 'embcol_5', 'embcol_6', 'embcol_7', 'embcol_8', 'embcol_9', 'embcol_10', 'embcol_11', 'embcol_12', 'embcol_13', 'embcol_14', 'embcol_15', 'embcol_16', 'embcol_17', 'embcol_18', 'embcol_19', 'embcol_20', 'embcol_21', 'embcol_22', 'embcol_23', 'embcol_24', 'embcol_25', 'embcol_26', 'embcol_27', 'embcol_28', 'embcol_29', 'embcol_30', 'embcol_31', 'emb_present'], dtype='object')"
      ]
     },
     "execution_count": 31,
     "metadata": {},
     "output_type": "execute_result"
    }
   ],
   "source": [
    "train_df.columns"
   ]
  },
  {
   "cell_type": "code",
   "execution_count": 33,
   "metadata": {},
   "outputs": [
    {
     "name": "stdout",
     "output_type": "stream",
     "text": [
      "----------------------------------------------------------------------------------------------------\n",
      "Starting run of model random_forest_regression at time 16:55:21\n",
      "Starting Regression training...\n",
      "Training time was: 868.90 seconds\n",
      "Testing time was: 1.29 seconds\n",
      "Prediction time of untested data was: 1.2144639492034912\n",
      "Run finished at 17:09:56. Total run time = 874.91 seconds\n",
      "^^^^^^^^^^^^^^^^^^^^^^^^^^^^^^^^^^^^^^^^^^^^^^^^^^^^^^^^^^^^^^^^^^^^^^^^^^^^^^^^^^^^^^^^^^^^^^^^^^^^\n",
      "\n",
      "\n"
     ]
    }
   ],
   "source": [
    "# Note, this will take a long time.\n",
    "th_kwargs = dict(function_that_returns_TH_model=random_forest_regression,\n",
    "                 dict_of_function_parameters={},\n",
    "                 description=\"sparse_genes\",\n",
    "                 sparse_cols_to_use=['gene'])\n",
    "\n",
    "hrm._invoke_test_harness(train_df, test_df, test_df, percent_train='NA',num_pred_conditions=2,**th_kwargs)\n"
   ]
  },
  {
   "cell_type": "code",
   "execution_count": null,
   "metadata": {},
   "outputs": [],
   "source": [
    "# Check leaderboard and subfolders in cdm_outputs for all outputs."
   ]
  }
 ],
 "metadata": {
  "kernelspec": {
   "display_name": "Python 3",
   "language": "python",
   "name": "python3"
  },
  "language_info": {
   "codemirror_mode": {
    "name": "ipython",
    "version": 3
   },
   "file_extension": ".py",
   "mimetype": "text/x-python",
   "name": "python",
   "nbconvert_exporter": "python",
   "pygments_lexer": "ipython3",
   "version": "3.6.12"
  },
  "toc": {
   "base_numbering": 1,
   "nav_menu": {},
   "number_sections": true,
   "sideBar": true,
   "skip_h1_title": false,
   "title_cell": "Table of Contents",
   "title_sidebar": "Contents",
   "toc_cell": true,
   "toc_position": {},
   "toc_section_display": true,
   "toc_window_display": false
  }
 },
 "nbformat": 4,
 "nbformat_minor": 2
}
